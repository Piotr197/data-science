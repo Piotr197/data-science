{
 "cells": [
  {
   "cell_type": "code",
   "execution_count": 1,
   "metadata": {},
   "outputs": [],
   "source": [
    "import numpy as np\n",
    "import pandas as pd"
   ]
  },
  {
   "cell_type": "code",
   "execution_count": 3,
   "metadata": {},
   "outputs": [],
   "source": [
    "def function(x):\n",
    "    if x > 0:\n",
    "        return 1\n",
    "    return 0"
   ]
  },
  {
   "cell_type": "code",
   "execution_count": 4,
   "metadata": {},
   "outputs": [],
   "source": [
    "#AND\n",
    "biasAND = -1.5         "
   ]
  },
  {
   "cell_type": "code",
   "execution_count": 24,
   "metadata": {},
   "outputs": [],
   "source": [
    "inputs = [[0,0], [0,1], [1,0], [1,1]] #[x1 x2]\n",
    "x1Weight = 1\n",
    "x2Weight = 1"
   ]
  },
  {
   "cell_type": "code",
   "execution_count": 77,
   "metadata": {},
   "outputs": [
    {
     "name": "stdout",
     "output_type": "stream",
     "text": [
      "   x1  x2  x1Weight  x2Weight  biasWeight  x1*x1Weight  x2*x2Weight  Output\n",
      "0   0   0         1         1        -1.5            0            0       0\n",
      "   x1  x2  x1Weight  x2Weight  biasWeight  x1*x1Weight  x2*x2Weight  Output\n",
      "1   0   1         1         1        -1.5            0            1       0\n",
      "   x1  x2  x1Weight  x2Weight  biasWeight  x1*x1Weight  x2*x2Weight  Output\n",
      "2   1   0         1         1        -1.5            1            0       0\n",
      "   x1  x2  x1Weight  x2Weight  biasWeight  x1*x1Weight  x2*x2Weight  Output\n",
      "3   1   1         1         1        -1.5            1            1       1\n"
     ]
    }
   ],
   "source": [
    "idx = 0\n",
    "for inp in inputs:  \n",
    "    output = function(biasAND + inp[0] + inp[1])\n",
    "    dataset = {'x1': inp[0], 'x2': inp[1],'x1Weight': x1Weight , 'x2Weight': x2Weight, 'biasWeight': -1.5,\n",
    "               'x1*x1Weight': inp[0]*x1Weight, 'x2*x2Weight': inp[1]*x2Weight, 'Output': output}\n",
    "    print(pd.DataFrame(dataset, index=[idx]))\n",
    "    idx+=1"
   ]
  },
  {
   "cell_type": "code",
   "execution_count": 41,
   "metadata": {},
   "outputs": [],
   "source": [
    "#OR\n",
    "biasOR = -0.5"
   ]
  },
  {
   "cell_type": "code",
   "execution_count": 78,
   "metadata": {},
   "outputs": [
    {
     "name": "stdout",
     "output_type": "stream",
     "text": [
      "   x1  x2  x1Weight  x2Weight  biasWeight  x1*x1Weight  x2*x2Weight  Output\n",
      "0   0   0         1         1        -1.5            0            0       0\n",
      "   x1  x2  x1Weight  x2Weight  biasWeight  x1*x1Weight  x2*x2Weight  Output\n",
      "1   0   1         1         1        -1.5            0            1       1\n",
      "   x1  x2  x1Weight  x2Weight  biasWeight  x1*x1Weight  x2*x2Weight  Output\n",
      "2   1   0         1         1        -1.5            1            0       1\n",
      "   x1  x2  x1Weight  x2Weight  biasWeight  x1*x1Weight  x2*x2Weight  Output\n",
      "3   1   1         1         1        -1.5            1            1       1\n"
     ]
    }
   ],
   "source": [
    "idx = 0\n",
    "for inp in inputs:  \n",
    "    output = function(biasOR + inp[0] + inp[1])\n",
    "    dataset = {'x1': inp[0], 'x2': inp[1],'x1Weight': x1Weight , 'x2Weight': x2Weight, 'biasWeight': -1.5,\n",
    "               'x1*x1Weight': inp[0]*x1Weight, 'x2*x2Weight': inp[1]*x2Weight, 'Output': output}\n",
    "    print(pd.DataFrame(dataset, index=[idx]))\n",
    "    idx+=1"
   ]
  },
  {
   "cell_type": "code",
   "execution_count": 45,
   "metadata": {},
   "outputs": [],
   "source": [
    "# NOT\n",
    "biasNOT = 1 \n",
    "notInputs = [0,1]\n",
    "xWeight = -2"
   ]
  },
  {
   "cell_type": "code",
   "execution_count": 79,
   "metadata": {},
   "outputs": [
    {
     "name": "stdout",
     "output_type": "stream",
     "text": [
      "   x  xWeight  biasWeight  x1*xWeight  Output\n",
      "0  0       -2           1           0       1\n",
      "   x  xWeight  biasWeight  x1*xWeight  Output\n",
      "1  1       -2           1          -2       0\n"
     ]
    }
   ],
   "source": [
    "idx = 0\n",
    "for inp in notInputs:  \n",
    "    output = function(biasNOT + inp*xWeight)\n",
    "    dataset = {'x': inp,'xWeight': xWeight, 'biasWeight': 1,\n",
    "               'x1*xWeight': inp*xWeight, 'Output': output}\n",
    "    print(pd.DataFrame(dataset, index=[idx]))\n",
    "    idx+=1\n",
    "    "
   ]
  },
  {
   "cell_type": "code",
   "execution_count": 89,
   "metadata": {},
   "outputs": [
    {
     "name": "stdout",
     "output_type": "stream",
     "text": [
      "   x1  x2  a1  a2  Output\n",
      "0   0   0   1   0       1\n",
      "   x1  x2  a1  a2  Output\n",
      "1   0   1   0   0       0\n",
      "   x1  x2  a1  a2  Output\n",
      "2   1   0   0   0       0\n",
      "   x1  x2  a1  a2  Output\n",
      "3   1   1   0   1       1\n"
     ]
    }
   ],
   "source": [
    "#XNOR\n",
    "idx = 0\n",
    "for inp in inputs:\n",
    "    a1 = function(0.5 + inp[0] * -1 + inp[1] * -1)\n",
    "    a2 = function(-1.5 + inp[0] + inp[1])\n",
    "    a3 = function(-0.5 + a1 + a2) \n",
    "    \n",
    "    WeightsXNOR = { 'x1->a1': -1, 'x2->a1': -1,'bias->a1':0.5, 'x1->a2': 1, 'x2->a2': 1, 'bias->a2':-1.5, \n",
    "               'a1->a3': 1,'a2->a3': 1, 'bias->a3': -0.5}\n",
    "    \n",
    "    \n",
    "    Inputs = {'x1': inp[0], 'x2': inp[1], 'a1': a1, 'a2': a2, 'Output': a3}\n",
    "    print(pd.DataFrame(Inputs, index=[idx]))\n",
    "    idx+=1\n",
    "    \n",
    "    "
   ]
  },
  {
   "cell_type": "code",
   "execution_count": 90,
   "metadata": {},
   "outputs": [
    {
     "name": "stdout",
     "output_type": "stream",
     "text": [
      "Weights\n",
      "   x1->a1  x2->a1  bias->a1  x1->a2  x2->a2  bias->a2  a1->a3  a2->a3  \\\n",
      "0      -1      -1       0.5       1       1      -1.5       1       1   \n",
      "\n",
      "   bias->a3  \n",
      "0      -0.5  \n"
     ]
    }
   ],
   "source": [
    "print('Weights')\n",
    "print(pd.DataFrame(WeightsXNOR, index=[0]))"
   ]
  },
  {
   "cell_type": "code",
   "execution_count": 93,
   "metadata": {},
   "outputs": [
    {
     "name": "stdout",
     "output_type": "stream",
     "text": [
      "   x1  x2  a1  a2  Output\n",
      "0   0   0   0   1       0\n",
      "   x1  x2  a1  a2  Output\n",
      "1   0   1   1   1       1\n",
      "   x1  x2  a1  a2  Output\n",
      "2   1   0   1   1       1\n",
      "   x1  x2  a1  a2  Output\n",
      "3   1   1   1   0       0\n"
     ]
    }
   ],
   "source": [
    "#XOR\n",
    "idx = 0\n",
    "for inp in inputs:\n",
    "    a1 = function(-10 + inp[0] * 20 + inp[1] * 20)\n",
    "    a2 = function(30 + inp[0] * -20 + inp[1] * -20)\n",
    "    a3 = function(-30 + a1 * 20 + a2 * 20) \n",
    "    \n",
    "    WeightsXOR = { 'x1->+a1': 20, 'x2->a1': 20,'bias->a1':-10, 'x1->a2': -20, 'x2->a2': -20, 'bias->a2':30, \n",
    "               'a1->a3': 20,'a2->a3': 20, 'bias->a3': -30}\n",
    "    \n",
    "    \n",
    "    Inputs = {'x1': inp[0], 'x2': inp[1], 'a1': a1, 'a2': a2, 'Output': a3}\n",
    "    print(pd.DataFrame(Inputs, index=[idx]))\n",
    "    idx+=1"
   ]
  },
  {
   "cell_type": "code",
   "execution_count": 94,
   "metadata": {},
   "outputs": [
    {
     "name": "stdout",
     "output_type": "stream",
     "text": [
      "Weights\n",
      "   x1->a1  x2->a1  bias->a1  x1->a2  x2->a2  bias->a2  a1->a3  a2->a3  \\\n",
      "0      20      20       -10     -20     -20        30      20      20   \n",
      "\n",
      "   bias->a3  \n",
      "0       -30  \n"
     ]
    }
   ],
   "source": [
    "print('Weights')\n",
    "print(pd.DataFrame(WeightsXOR, index=[0]))"
   ]
  },
  {
   "cell_type": "code",
   "execution_count": null,
   "metadata": {},
   "outputs": [],
   "source": []
  }
 ],
 "metadata": {
  "kernelspec": {
   "display_name": "Python 3",
   "language": "python",
   "name": "python3"
  },
  "language_info": {
   "codemirror_mode": {
    "name": "ipython",
    "version": 3
   },
   "file_extension": ".py",
   "mimetype": "text/x-python",
   "name": "python",
   "nbconvert_exporter": "python",
   "pygments_lexer": "ipython3",
   "version": "3.7.4"
  }
 },
 "nbformat": 4,
 "nbformat_minor": 2
}
