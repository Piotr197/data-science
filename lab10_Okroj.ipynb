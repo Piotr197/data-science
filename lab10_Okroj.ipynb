{
 "cells": [
  {
   "cell_type": "code",
   "execution_count": 3,
   "metadata": {},
   "outputs": [],
   "source": [
    "from collections import defaultdict, Counter\n",
    "from functools import partial\n",
    "import math"
   ]
  },
  {
   "cell_type": "code",
   "execution_count": 4,
   "metadata": {},
   "outputs": [],
   "source": [
    "def entropy(class_prob):\n",
    "    return sum(-p * math.log(p,2)\n",
    "              for p in class_prob\n",
    "              if p)"
   ]
  },
  {
   "cell_type": "code",
   "execution_count": 5,
   "metadata": {},
   "outputs": [],
   "source": [
    "def class_prob(labels):\n",
    "    total_count = len(labels)\n",
    "    return [count / total_count\n",
    "           for count in Counter(labels).values()]"
   ]
  },
  {
   "cell_type": "code",
   "execution_count": 6,
   "metadata": {},
   "outputs": [],
   "source": [
    "def data_entropy(labeled_data):\n",
    "    labels = [label for _, label in labeled_data]\n",
    "    probabilities = class_prob(labels)\n",
    "    return entropy(probabilities)"
   ]
  },
  {
   "cell_type": "code",
   "execution_count": 7,
   "metadata": {},
   "outputs": [],
   "source": [
    "def partition_entropy(subsets):\n",
    "    total_count = sum(len(subset) for subset in subsets)\n",
    "    return sum(data_entropy(subset) * len(subset) / total_count\n",
    "              for subset in subsets)"
   ]
  },
  {
   "cell_type": "code",
   "execution_count": 8,
   "metadata": {},
   "outputs": [],
   "source": [
    "inputs = [ \n",
    "    ({'level': 'Senior', 'lang': 'Java', 'tweets': 'no', 'phd':'no'}, False),\n",
    "    ({'level': 'Senior', 'lang': 'Java', 'tweets': 'no', 'phd':'yes'}, False),\n",
    "    ({'level': 'Mid', 'lang': 'Python', 'tweets': 'no', 'phd':'no'}, True),\n",
    "    ({'level': 'Junior', 'lang': 'Python', 'tweets': 'no', 'phd':'no'}, True),\n",
    "    ({'level': 'Junior', 'lang': 'R', 'tweets': 'yes', 'phd':'no'}, True),\n",
    "    ({'level': 'Junior', 'lang': 'R', 'tweets': 'yes', 'phd':'yes'}, False),\n",
    "    ({'level': 'Mid', 'lang': 'R', 'tweets': 'yes', 'phd':'yes'}, True),\n",
    "    ({'level': 'Senior', 'lang': 'Python', 'tweets': 'no', 'phd':'no'}, True),\n",
    "    ({'level': 'Senior', 'lang': 'R', 'tweets': 'yes', 'phd':'yes'}, True),\n",
    "    ({'level': 'Junior', 'lang': 'Python', 'tweets': 'yes', 'phd':'no'}, True),\n",
    "    ({'level': 'Senior', 'lang': 'Python', 'tweets': 'yes', 'phd':'yes'}, True),\n",
    "    ({'level': 'Mid', 'lang': 'Python', 'tweets': 'no', 'phd':'yes'}, True),\n",
    "    ({'level': 'Mid', 'lang': 'Java', 'tweets': 'yes', 'phd':'no'}, True),\n",
    "    ({'level': 'Junior', 'lang': 'Python', 'tweets': 'no', 'phd':'yes'}, True),\n",
    "]"
   ]
  },
  {
   "cell_type": "code",
   "execution_count": 9,
   "metadata": {},
   "outputs": [],
   "source": [
    "def partition_by(inputs, attribute):\n",
    "    groups = defaultdict(list)\n",
    "    for input in inputs:\n",
    "        key = input[0][attribute]\n",
    "        groups[key].append(input)\n",
    "    return groups"
   ]
  },
  {
   "cell_type": "code",
   "execution_count": 10,
   "metadata": {},
   "outputs": [],
   "source": [
    "def partition_entropy_by(inputs, attribute):\n",
    "    partitions = partition_by(inputs, attribute)\n",
    "    return partition_entropy(partitions.values())"
   ]
  },
  {
   "cell_type": "code",
   "execution_count": 11,
   "metadata": {},
   "outputs": [
    {
     "name": "stdout",
     "output_type": "stream",
     "text": [
      "level 0.6045995319078682\n",
      "lang 0.4285714285714286\n",
      "tweets 0.7273966735744792\n",
      "phd 0.7273966735744792\n"
     ]
    }
   ],
   "source": [
    "for key in ['level', 'lang', 'tweets', 'phd']:\n",
    "    print(key, partition_entropy_by(inputs, key))"
   ]
  },
  {
   "cell_type": "code",
   "execution_count": 12,
   "metadata": {},
   "outputs": [
    {
     "name": "stdout",
     "output_type": "stream",
     "text": [
      "lang 0.0\n",
      "tweets 0.5509775004326938\n",
      "phd 0.9509775004326938\n"
     ]
    }
   ],
   "source": [
    "senior_inputs = [(input, label)\n",
    "                for input, label in inputs if input[\"level\"] == \"Senior\"]\n",
    "for key in ['lang', 'tweets', 'phd']:\n",
    "    print(key, partition_entropy_by(senior_inputs, key))"
   ]
  },
  {
   "cell_type": "code",
   "execution_count": 13,
   "metadata": {},
   "outputs": [],
   "source": [
    "def classify(tree, input):\n",
    "    if tree in [True, False]:\n",
    "        return tree\n",
    "    \n",
    "    attribute, subtree_dict = tree\n",
    "    \n",
    "    subtree_key = input.get(attribute)\n",
    "    \n",
    "    if subtree_key not in subtree_dict:\n",
    "        subtree_key = None\n",
    "        \n",
    "    subtree = subtree_dict[subtree_key]\n",
    "    return classify(subtree, input)"
   ]
  },
  {
   "cell_type": "code",
   "execution_count": 14,
   "metadata": {},
   "outputs": [],
   "source": [
    "def build_tree_id3(inputs, split_candidates=None):\n",
    "    if split_candidates is None:\n",
    "        split_candidates = inputs[0][0].keys()\n",
    "        \n",
    "    num_inputs = len(inputs)\n",
    "    num_trues = len([label for item, label in inputs if label])\n",
    "    num_falses = num_inputs - num_trues\n",
    "    \n",
    "    if num_trues == 0: return False\n",
    "    if num_falses ==0: return True\n",
    "    \n",
    "    if not split_candidates:\n",
    "        return num_trues >= num_falses\n",
    "    \n",
    "    best_attribute = min(split_candidates, \n",
    "                         key=partial(partition_entropy_by, inputs))\n",
    "    \n",
    "    partitions = partition_by(inputs, best_attribute)\n",
    "    new_candidiates = [a for a in split_candidates\n",
    "                      if a != best_attribute]\n",
    "    \n",
    "    subtrees = {attribute: build_tree_id3(subset, new_candidiates)\n",
    "               for attribute, subset in partitions.items()}\n",
    "    \n",
    "    subtrees[None] = num_trues > num_falses\n",
    "    \n",
    "    return (best_attribute, subtrees)"
   ]
  },
  {
   "cell_type": "code",
   "execution_count": 15,
   "metadata": {},
   "outputs": [],
   "source": [
    "tree = build_tree_id3(inputs)"
   ]
  },
  {
   "cell_type": "code",
   "execution_count": 49,
   "metadata": {},
   "outputs": [
    {
     "data": {
      "text/plain": [
       "False"
      ]
     },
     "execution_count": 49,
     "metadata": {},
     "output_type": "execute_result"
    }
   ],
   "source": [
    "classify(tree, {\"level\": \"Junior\",\n",
    "               \"lang\": \"Java\",\n",
    "               \"tweets\": \"yes\",\n",
    "               \"phd\": \"no\"})"
   ]
  },
  {
   "cell_type": "code",
   "execution_count": 16,
   "metadata": {},
   "outputs": [
    {
     "data": {
      "text/plain": [
       "True"
      ]
     },
     "execution_count": 16,
     "metadata": {},
     "output_type": "execute_result"
    }
   ],
   "source": [
    "classify(tree, {\"level\": \"Senior\"})"
   ]
  },
  {
   "cell_type": "code",
   "execution_count": 17,
   "metadata": {},
   "outputs": [],
   "source": [
    "inputs_20 = [\n",
    "    ({'level': 'Senior', 'lang': 'Java', 'tweets': 'no', 'phd':'no'}, False),\n",
    "    ({'level': 'Senior', 'lang': 'Java', 'tweets': 'no', 'phd':'yes'}, False),\n",
    "    ({'level': 'Mid', 'lang': 'Python', 'tweets': 'no', 'phd':'no'}, True),\n",
    "    ({'level': 'Junior', 'lang': 'Python', 'tweets': 'no', 'phd':'no'}, True),\n",
    "    ({'level': 'Junior', 'lang': 'R', 'tweets': 'yes', 'phd':'no'}, True),\n",
    "    ({'level': 'Junior', 'lang': 'R', 'tweets': 'yes', 'phd':'yes'}, False),\n",
    "    ({'level': 'Mid', 'lang': 'R', 'tweets': 'yes', 'phd':'yes'}, True),\n",
    "    ({'level': 'Senior', 'lang': 'Python', 'tweets': 'no', 'phd':'no'}, True),\n",
    "    ({'level': 'Senior', 'lang': 'R', 'tweets': 'yes', 'phd':'yes'}, True),\n",
    "    ({'level': 'Junior', 'lang': 'Python', 'tweets': 'yes', 'phd':'no'}, True),\n",
    "    ({'level': 'Senior', 'lang': 'Python', 'tweets': 'yes', 'phd':'yes'}, True),\n",
    "    ({'level': 'Mid', 'lang': 'Python', 'tweets': 'no', 'phd':'yes'}, True),\n",
    "    ({'level': 'Mid', 'lang': 'Java', 'tweets': 'yes', 'phd':'no'}, True),\n",
    "    ({'level': 'Junior', 'lang': 'Python', 'tweets': 'no', 'phd':'yes'}, True),\n",
    "    ({'level': 'Senior', 'lang': 'Java', 'tweets': 'yes', 'phd':'yes'}, True),\n",
    "    ({'level': 'Junior', 'lang': 'Java', 'tweets': 'no', 'phd':'no'}, False),\n",
    "    ({'level': 'Mid', 'lang': 'Java', 'tweets': 'yes', 'phd':'no'}, False),\n",
    "    ({'level': 'Senior', 'lang': 'Python', 'tweets': 'no', 'phd':'yes'}, True),\n",
    "    ({'level': 'Intern', 'lang': 'R', 'tweets': 'no', 'phd':'no'}, False),\n",
    "    ({'level': 'Senior', 'lang': 'Java', 'tweets': 'yes', 'phd':'no'}, False),\n",
    "    ({'level': 'Senior', 'lang': 'Python', 'tweets': 'no', 'phd':'no'}, True),\n",
    "    ({'level': 'Junior', 'lang': 'JavaScript', 'tweets': 'no', 'phd':'no'}, False),\n",
    "    ({'level': 'Mid', 'lang': 'R', 'tweets': 'no', 'phd':'yes'}, False),\n",
    "    ({'level': 'Intern', 'lang': 'JavaScript', 'tweets': 'yes', 'phd':'no'}, False),\n",
    "    ({'level': 'Intern', 'lang': 'Python', 'tweets': 'no', 'phd':'no'}, True),\n",
    "    ({'level': 'Mid', 'lang': 'Java', 'tweets': 'no', 'phd':'yes'}, True),\n",
    "    ({'level': 'Junior', 'lang': 'Java', 'tweets': 'yes', 'phd':'no'}, False),\n",
    "    ({'level': 'Senior', 'lang': 'R', 'tweets': 'no', 'phd':'no'}, True),\n",
    "    ({'level': 'Senior', 'lang': 'JavaScript', 'tweets': 'yes', 'phd':'yes'}, True),\n",
    "    ({'level': 'Mid', 'lang': 'Python', 'tweets': 'no', 'phd':'no'}, False),\n",
    "    ({'level': 'Junior', 'lang': 'Java', 'tweets': 'no', 'phd':'no'}, False),\n",
    "    ({'level': 'Senior', 'lang': 'R', 'tweets': 'yes', 'phd':'yes'}, False),\n",
    "    ({'level': 'Mid', 'lang': 'Python', 'tweets': 'no', 'phd':'no'}, True),\n",
    "    ({'level': 'Intern', 'lang': 'R', 'tweets': 'yes', 'phd':'no'}, True)\n",
    "\n",
    "]"
   ]
  },
  {
   "cell_type": "code",
   "execution_count": 31,
   "metadata": {},
   "outputs": [
    {
     "data": {
      "text/plain": [
       "True"
      ]
     },
     "execution_count": 31,
     "metadata": {},
     "output_type": "execute_result"
    }
   ],
   "source": [
    "tree20 = build_tree_id3(inputs_20)\n",
    "classify(tree20, {\"level\": \"Senior\"})"
   ]
  },
  {
   "cell_type": "code",
   "execution_count": 32,
   "metadata": {},
   "outputs": [],
   "source": [
    "inputs_50 = [\n",
    "    ({'level': 'Senior', 'lang': 'Java', 'tweets': 'no', 'phd':'no'}, False),\n",
    "    ({'level': 'Senior', 'lang': 'Java', 'tweets': 'no', 'phd':'yes'}, False),\n",
    "    ({'level': 'Mid', 'lang': 'Python', 'tweets': 'no', 'phd':'no'}, True),\n",
    "    ({'level': 'Junior', 'lang': 'Python', 'tweets': 'no', 'phd':'no'}, True),\n",
    "    ({'level': 'Junior', 'lang': 'R', 'tweets': 'yes', 'phd':'no'}, True),\n",
    "    ({'level': 'Junior', 'lang': 'R', 'tweets': 'yes', 'phd':'yes'}, False),\n",
    "    ({'level': 'Mid', 'lang': 'R', 'tweets': 'yes', 'phd':'yes'}, True),\n",
    "    ({'level': 'Senior', 'lang': 'Python', 'tweets': 'no', 'phd':'no'}, True),\n",
    "    ({'level': 'Senior', 'lang': 'R', 'tweets': 'yes', 'phd':'yes'}, True),\n",
    "    ({'level': 'Junior', 'lang': 'Python', 'tweets': 'yes', 'phd':'no'}, True),\n",
    "    ({'level': 'Senior', 'lang': 'Python', 'tweets': 'yes', 'phd':'yes'}, True),\n",
    "    ({'level': 'Mid', 'lang': 'Python', 'tweets': 'no', 'phd':'yes'}, True),\n",
    "    ({'level': 'Mid', 'lang': 'Java', 'tweets': 'yes', 'phd':'no'}, True),\n",
    "    ({'level': 'Junior', 'lang': 'Python', 'tweets': 'no', 'phd':'yes'}, True),\n",
    "    ({'level': 'Senior', 'lang': 'Java', 'tweets': 'yes', 'phd':'yes'}, True),\n",
    "    ({'level': 'Junior', 'lang': 'Java', 'tweets': 'no', 'phd':'no'}, False),\n",
    "    ({'level': 'Mid', 'lang': 'Java', 'tweets': 'yes', 'phd':'no'}, False),\n",
    "    ({'level': 'Senior', 'lang': 'Python', 'tweets': 'no', 'phd':'yes'}, True),\n",
    "    ({'level': 'Intern', 'lang': 'R', 'tweets': 'no', 'phd':'no'}, False),\n",
    "    ({'level': 'Senior', 'lang': 'Java', 'tweets': 'yes', 'phd':'no'}, False),\n",
    "    ({'level': 'Senior', 'lang': 'Python', 'tweets': 'no', 'phd':'no'}, True),\n",
    "    ({'level': 'Junior', 'lang': 'JavaScript', 'tweets': 'no', 'phd':'no'}, False),\n",
    "    ({'level': 'Mid', 'lang': 'R', 'tweets': 'no', 'phd':'yes'}, False),\n",
    "    ({'level': 'Intern', 'lang': 'JavaScript', 'tweets': 'yes', 'phd':'no'}, False),\n",
    "    ({'level': 'Intern', 'lang': 'Python', 'tweets': 'no', 'phd':'no'}, True),\n",
    "    ({'level': 'Mid', 'lang': 'Java', 'tweets': 'no', 'phd':'yes'}, True),\n",
    "    ({'level': 'Junior', 'lang': 'Java', 'tweets': 'yes', 'phd':'no'}, False),\n",
    "    ({'level': 'Senior', 'lang': 'R', 'tweets': 'no', 'phd':'no'}, True),\n",
    "    ({'level': 'Senior', 'lang': 'JavaScript', 'tweets': 'yes', 'phd':'yes'}, True),\n",
    "    ({'level': 'Mid', 'lang': 'Python', 'tweets': 'no', 'phd':'no'}, False),\n",
    "    ({'level': 'Junior', 'lang': 'Java', 'tweets': 'no', 'phd':'no'}, False),\n",
    "    ({'level': 'Senior', 'lang': 'R', 'tweets': 'yes', 'phd':'yes'}, False),\n",
    "    ({'level': 'Mid', 'lang': 'Python', 'tweets': 'no', 'phd':'no'}, True),\n",
    "    ({'level': 'Mid', 'lang': 'R', 'tweets': 'yes', 'phd':'no'}, True),\n",
    "    ({'level': 'Intern', 'lang': 'R', 'tweets': 'yes', 'phd':'no'}, True),\n",
    "    ({'level': 'Senior', 'lang': 'Python', 'tweets': 'yes', 'phd':'no'}, False),\n",
    "    ({'level': 'Mid', 'lang': 'Python', 'tweets': 'yes', 'phd':'no'}, True),\n",
    "    ({'level': 'Senior', 'lang': 'Python', 'tweets': 'yes', 'phd':'no'}, True),\n",
    "    ({'level': 'Junior', 'lang': 'JavaScript', 'tweets': 'yes', 'phd':'no'}, False),\n",
    "    ({'level': 'Junior', 'lang': 'R', 'tweets': 'yes', 'phd':'no'}, True),\n",
    "    ({'level': 'Intern', 'lang': 'Python', 'tweets': 'yes', 'phd':'no'}, False),\n",
    "    ({'level': 'Senior', 'lang': 'Python', 'tweets': 'yes', 'phd':'no'}, True),\n",
    "    ({'level': 'Mid', 'lang': 'R', 'tweets': 'yes', 'phd':'yes'}, True),\n",
    "    ({'level': 'Mid', 'lang': 'R', 'tweets': 'no', 'phd':'no'}, False),\n",
    "    ({'level': 'Junior', 'lang': 'R', 'tweets': 'yes', 'phd':'yes'}, True),\n",
    "    ({'level': 'Intern', 'lang': 'R', 'tweets': 'yes', 'phd':'no'}, False),\n",
    "    ({'level': 'Intern', 'lang': 'Java', 'tweets': 'no', 'phd':'no'}, True),\n",
    "    ({'level': 'Senior', 'lang': 'R', 'tweets': 'yes', 'phd':'yes'}, False),\n",
    "    ({'level': 'Senior', 'lang': 'Java', 'tweets': 'no', 'phd':'no'}, False),\n",
    "    ({'level': 'Senior', 'lang': 'Python', 'tweets': 'no', 'phd':'no'}, True),\n",
    "    ({'level': 'Intern', 'lang': 'R', 'tweets': 'no', 'phd':'no'}, True),\n",
    "    ({'level': 'Senior', 'lang': 'Java', 'tweets': 'yes', 'phd':'yes'}, True),\n",
    "    ({'level': 'Intern', 'lang': 'JavaScript', 'tweets': 'yes', 'phd':'no'}, True),\n",
    "    ({'level': 'Intern', 'lang': 'Python', 'tweets': 'yes', 'phd':'no'}, True),\n",
    "    ({'level': 'Senior', 'lang': 'R', 'tweets': 'no', 'phd':'no'}, True),\n",
    "    ({'level': 'Mid', 'lang': 'R', 'tweets': 'yes', 'phd':'no'}, True),\n",
    "    ({'level': 'Mid', 'lang': 'Java', 'tweets': 'no', 'phd':'yes'}, True),\n",
    "    ({'level': 'Senior', 'lang': 'Python', 'tweets': 'yes', 'phd':'no'}, True),\n",
    "    ({'level': 'Junior', 'lang': 'JavaScript', 'tweets': 'no', 'phd':'no'}, False),\n",
    "    ({'level': 'Junior', 'lang': 'Java', 'tweets': 'yes', 'phd':'no'}, True),\n",
    "    ({'level': 'Intern', 'lang': 'Python', 'tweets': 'yes', 'phd':'no'}, False),\n",
    "    ({'level': 'Senior', 'lang': 'Python', 'tweets': 'no', 'phd':'yes'}, True),\n",
    "    ({'level': 'Intern', 'lang': 'Python', 'tweets': 'no', 'phd':'no'}, False),\n",
    "    ({'level': 'Junior', 'lang': 'Python', 'tweets': 'yes', 'phd':'yes'}, False)\n",
    "    \n",
    "]"
   ]
  },
  {
   "cell_type": "code",
   "execution_count": 36,
   "metadata": {},
   "outputs": [
    {
     "data": {
      "text/plain": [
       "True"
      ]
     },
     "execution_count": 36,
     "metadata": {},
     "output_type": "execute_result"
    }
   ],
   "source": [
    "tree50 = build_tree_id3(inputs_50)\n",
    "classify(tree50, {\"level\": \"Senior\"})"
   ]
  },
  {
   "cell_type": "code",
   "execution_count": null,
   "metadata": {},
   "outputs": [],
   "source": []
  }
 ],
 "metadata": {
  "kernelspec": {
   "display_name": "Python 3",
   "language": "python",
   "name": "python3"
  },
  "language_info": {
   "codemirror_mode": {
    "name": "ipython",
    "version": 3
   },
   "file_extension": ".py",
   "mimetype": "text/x-python",
   "name": "python",
   "nbconvert_exporter": "python",
   "pygments_lexer": "ipython3",
   "version": "3.7.4"
  }
 },
 "nbformat": 4,
 "nbformat_minor": 2
}
